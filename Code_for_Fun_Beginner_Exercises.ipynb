{
  "nbformat": 4,
  "nbformat_minor": 0,
  "metadata": {
    "colab": {
      "name": "Code for Fun - Beginner Exercises",
      "provenance": [],
      "collapsed_sections": [
        "I7kgJ3Dnyu21",
        "_hOt2yn0c9C8"
      ],
      "toc_visible": true,
      "include_colab_link": true
    },
    "kernelspec": {
      "name": "python3",
      "display_name": "Python 3"
    }
  },
  "cells": [
    {
      "cell_type": "markdown",
      "metadata": {
        "id": "view-in-github",
        "colab_type": "text"
      },
      "source": [
        "<a href=\"https://colab.research.google.com/github/Paul-Fuller/Python/blob/master/Code_for_Fun_Beginner_Exercises.ipynb\" target=\"_parent\"><img src=\"https://colab.research.google.com/assets/colab-badge.svg\" alt=\"Open In Colab\"/></a>"
      ]
    },
    {
      "cell_type": "markdown",
      "metadata": {
        "id": "rdR5A6xLfGI4",
        "colab_type": "text"
      },
      "source": [
        "# Beginner Exercises"
      ]
    },
    {
      "cell_type": "markdown",
      "metadata": {
        "id": "Bvqo9595utCU",
        "colab_type": "text"
      },
      "source": [
        "## <a class=\"anchor\" id=\"notebook\">Using this Jupyter Notebook </a>\n",
        "First, **save a copy** (File > Save a Copy) of this notebook. This will let you edit, make notes and run the code.  [FAQ](https://research.google.com/colaboratory/faq.html) for more info. \n",
        "\n",
        "Below is a **code cell**. Once the toolbar button indicates CONNECTED, click in the cell to select it and execute the contents in the following ways:\n",
        "\n",
        "* Click the **Play icon** in the left gutter of the cell;\n",
        "* Type **Shift+Enter** to run the cell and move focus to the next cell (adding one if none exists); or\n",
        "* Type **Alt+Enter** to run the cell and insert a new code cell immediately below it."
      ]
    },
    {
      "cell_type": "markdown",
      "metadata": {
        "id": "a-qP4YvlvEps",
        "colab_type": "text"
      },
      "source": [
        "### Warm-up Exercise\n",
        "\n",
        "You can edit and re-run a code cell as many times as you like, or create a new one and write your own code.\n",
        "\n",
        "Update the name variable in the code cell, replacing INSERT-YOUR-NAME-HERE below with your name and run the cell"
      ]
    },
    {
      "cell_type": "code",
      "metadata": {
        "id": "aUUOGH9tvOif",
        "colab_type": "code",
        "colab": {}
      },
      "source": [
        "name = 'INSERT-YOUR-NAME-HERE'\n",
        "print(\"Welcome %s\" %name)"
      ],
      "execution_count": 0,
      "outputs": []
    },
    {
      "cell_type": "markdown",
      "metadata": {
        "id": "PUVhCvvEoSkq",
        "colab_type": "text"
      },
      "source": [
        "## <a class=\"anchor\" id=\"ex1\"> Guess the Number </a>\n",
        "\n",
        "In this section we will walk through the python topics required to build a 'Guess the Number' game. \n",
        "\n",
        "The 'Guess the Number' game asks the user to guess a number, between 1 and 100 and will continue until the user guesses the correct number. To assist the user,  a hint as to whether the number is higher or lower is given after each guess."
      ]
    },
    {
      "cell_type": "markdown",
      "metadata": {
        "id": "eOwhDXH0tySH",
        "colab_type": "text"
      },
      "source": [
        "### Variables\n",
        "You can use variables to store a value, whether it be a number, text, or a boolean (True/False) value. When you need to use that value again later in your code, you can simply use the variable that holds that value. You can almost think of them as simple containers that store things for for later use."
      ]
    },
    {
      "cell_type": "code",
      "metadata": {
        "id": "6oebQ8sTtGMN",
        "colab_type": "code",
        "colab": {}
      },
      "source": [
        "first_name = \"Jane\"  \n",
        "last_name = \"Doe\"  \n",
        "fullname = first_name + \" \" + last_name #we add the middle section to add a space in between the first name and last name\n",
        "\n",
        "print(fullname) \n",
        "\n",
        "#Exercise: Update the above with your name and run the code\n",
        "#Exercise: Add a middle name variable and print the full name including middle name"
      ],
      "execution_count": 0,
      "outputs": []
    },
    {
      "cell_type": "markdown",
      "metadata": {
        "id": "f5l-IOyxtHEt",
        "colab_type": "text"
      },
      "source": [
        "###Numbers and Operators\n",
        "+,  -,  *,  / are the commands for addition, substraction, multiplication and division respectively. "
      ]
    },
    {
      "cell_type": "code",
      "metadata": {
        "id": "VQbfqWOulxC6",
        "colab_type": "code",
        "colab": {}
      },
      "source": [
        "a = 2\n",
        "b = 3\n",
        "\n",
        "addition = a + b\n",
        "subtraction = a - b\n",
        "multiplication = a*b\n",
        "\n",
        "\n",
        "print(\"a + b =\", addition)\n",
        "print(\"a - b =\", subtraction)\n",
        "print(\"a * b =\", multiplication)\n",
        "\n",
        "#Exercise: Add your own arithemetic below:\n",
        "\n"
      ],
      "execution_count": 0,
      "outputs": []
    },
    {
      "cell_type": "markdown",
      "metadata": {
        "colab_type": "text",
        "id": "-2xuPT1rYv4K"
      },
      "source": [
        "###Booleans\n",
        "There are only two boolean values. They are True and False. "
      ]
    },
    {
      "cell_type": "code",
      "metadata": {
        "colab_type": "code",
        "id": "zQ_XgxZEYv4L",
        "colab": {}
      },
      "source": [
        "True"
      ],
      "execution_count": 0,
      "outputs": []
    },
    {
      "cell_type": "code",
      "metadata": {
        "id": "mH_LjnYO9rep",
        "colab_type": "code",
        "colab": {}
      },
      "source": [
        "False"
      ],
      "execution_count": 0,
      "outputs": []
    },
    {
      "cell_type": "markdown",
      "metadata": {
        "colab_type": "text",
        "id": "RoR3vwrq35Tt"
      },
      "source": [
        "###Comparisons\n",
        "Python uses boolean variables to evaluate conditions. The boolean values True and False are returned when an expression is compared or evaluated. The conditions are the same as those used in mathematics:\n",
        "\n",
        "```\n",
        "==   equal to \n",
        "!=   not equal to\n",
        "<    less than\n",
        "<=   less than or equal to\n",
        ">    greater than\n",
        ">=   greater than or equal to\n",
        "```\n",
        "\n",
        "\n",
        "\n",
        "\n",
        "For example:"
      ]
    },
    {
      "cell_type": "code",
      "metadata": {
        "colab_type": "code",
        "id": "Y75sLc6e35Tu",
        "colab": {}
      },
      "source": [
        "x = 2\n",
        "\n",
        "print(x == 2) # x is equal to 2\n",
        "print(x == 3) # x is equal to 3\n",
        "print(x < 3) # x is less than 3\n",
        "print(x != 3) # x is not equal to 3\n",
        "\n",
        "#Exercise: Write your own comparisons below:"
      ],
      "execution_count": 0,
      "outputs": []
    },
    {
      "cell_type": "markdown",
      "metadata": {
        "colab_type": "text",
        "id": "04g8E0qSvgoz"
      },
      "source": [
        "### If Statement\n",
        "\n",
        "Python uses indentation to define code blocks, instead of brackets. The standard Python indentation is 4 spaces, although tabs and any other space size will work, as long as it is consistent. Notice that code blocks do not need any termination.\n",
        "\n",
        "Here is an example for using Python's \"if\" statement using code blocks:"
      ]
    },
    {
      "cell_type": "code",
      "metadata": {
        "colab_type": "code",
        "id": "u3nrjZExvgo0",
        "colab": {}
      },
      "source": [
        "x = 2\n",
        "if x == 2:\n",
        "    print(\"x equals two!\")\n",
        "else:\n",
        "    print(\"x does not equal to two.\")"
      ],
      "execution_count": 0,
      "outputs": []
    },
    {
      "cell_type": "code",
      "metadata": {
        "id": "1o-Mf0n10Lch",
        "colab_type": "code",
        "colab": {}
      },
      "source": [
        "#Exercise - Following the above example, set x to be any number you like. \n",
        "#Depending on the value of x Print \"x is less than 10\" or \"x is greater than 10\" \n",
        "#Place your code below:"
      ],
      "execution_count": 0,
      "outputs": []
    },
    {
      "cell_type": "markdown",
      "metadata": {
        "id": "ehj9jfUCv0Vp",
        "colab_type": "text"
      },
      "source": [
        "### While loop\n",
        "'While loops' repeat as long as a certain boolean condition is met. For our game we will want to repeatedly ask the user to guess the number until they guess correctly."
      ]
    },
    {
      "cell_type": "code",
      "metadata": {
        "id": "4DkQOCRMv0oS",
        "colab_type": "code",
        "colab": {}
      },
      "source": [
        "# Prints out 0,1,2,3,4\n",
        "\n",
        "count = 0\n",
        "while count < 5:\n",
        "    print(\"count is less than 5...\")\n",
        "    \n",
        "    print(\"Adding 1 to count.\")\n",
        "    count += 1  # This is the same as count = count + 1\n",
        "    \n",
        "    print(\"Has the the variable 'count' reached 5 yet?\")\n",
        "    print(count)\n",
        "    \n",
        "    \n",
        "print(\"count is no longer smaller than 5!\")"
      ],
      "execution_count": 0,
      "outputs": []
    },
    {
      "cell_type": "code",
      "metadata": {
        "id": "tGAZw_wQYDkw",
        "colab_type": "code",
        "colab": {}
      },
      "source": [
        "#Exercise: Create a while loop that prints Hello world 10 times. To stop the program press the square stop button"
      ],
      "execution_count": 0,
      "outputs": []
    },
    {
      "cell_type": "markdown",
      "metadata": {
        "colab_type": "text",
        "id": "elYAfo9Nw2dn"
      },
      "source": [
        "### Generating a random number\n",
        "At the start of our game we will need to generate a number that the user will guess. \n",
        "\n",
        "As well as the native functionality in python, you can extend what python can do by importing modules into your code.\n",
        "\n",
        "The python module 'random' will generate random numbers. To use this we'll need to import the random module. After that we can use the *randrange* function to return a randomly selected element from range(start, stop, step)."
      ]
    },
    {
      "cell_type": "code",
      "metadata": {
        "colab_type": "code",
        "id": "KBx4tbkGw2dp",
        "colab": {}
      },
      "source": [
        "import random\n",
        "\n",
        "random_number = random.randrange(0, 11)\n",
        "print(\"The random number\",random_number,\"has been generated.\")"
      ],
      "execution_count": 0,
      "outputs": []
    },
    {
      "cell_type": "markdown",
      "metadata": {
        "colab_type": "text",
        "id": "7lqkSOMhy7lO"
      },
      "source": [
        "### Handling user input\n"
      ]
    },
    {
      "cell_type": "markdown",
      "metadata": {
        "id": "djwrMwVy_KRp",
        "colab_type": "text"
      },
      "source": [
        "In order to play our game we need a way to get guesses from the user so the game can compare the guess to the random number.\n",
        "To do this we use the input() function.\n",
        "\n",
        "The input() function let’s us ask the user for some information, and then wait for them to enter something using the keyboard.\n",
        "\n"
      ]
    },
    {
      "cell_type": "code",
      "metadata": {
        "colab_type": "code",
        "id": "ivh5GjZky7lQ",
        "outputId": "fb8b8ce8-94aa-4b9c-8d65-fb1a212726e2",
        "colab": {
          "base_uri": "https://localhost:8080/",
          "height": 34
        }
      },
      "source": [
        "guess = input(\"Please guess a number: \")\n"
      ],
      "execution_count": 0,
      "outputs": [
        {
          "output_type": "stream",
          "text": [
            "Please guess a number: 5\n"
          ],
          "name": "stdout"
        }
      ]
    },
    {
      "cell_type": "code",
      "metadata": {
        "id": "5Z4NkHQi_Ftc",
        "colab_type": "code",
        "colab": {}
      },
      "source": [
        "# Hint For our game We need to convert the user’s input to a number. \n",
        "# Python can do this using the int() function. It looks like this\n",
        "\n",
        "guess = int(input(\"Please guess a number: \"))\n"
      ],
      "execution_count": 0,
      "outputs": []
    },
    {
      "cell_type": "code",
      "metadata": {
        "id": "aE34Og5SCU76",
        "colab_type": "code",
        "colab": {}
      },
      "source": [
        "#Exercise: Combine the 'while' tutorial above with this 'handling user input', to repeatedly ask the user to guess a number.\n",
        "# To exit the program press the square stop button where the play button would usually be"
      ],
      "execution_count": 0,
      "outputs": []
    },
    {
      "cell_type": "markdown",
      "metadata": {
        "colab_type": "text",
        "id": "TL2UDrIgwEf_"
      },
      "source": [
        "### Create the game\n",
        "Using the topics above, write the guess the number game in the code cell below\n",
        "\n",
        "Tip: If you are new to python you may find it easier to write pseudo-code to describe the game before writing python. Write out what your code should do step by step (you can check this with the example pseudo-code below if you are unsure). "
      ]
    },
    {
      "cell_type": "code",
      "metadata": {
        "id": "G7peuT93x0sJ",
        "colab_type": "code",
        "colab": {}
      },
      "source": [
        "# Write your code here\n",
        "\n",
        "\n"
      ],
      "execution_count": 0,
      "outputs": []
    },
    {
      "cell_type": "markdown",
      "metadata": {
        "id": "I7kgJ3Dnyu21",
        "colab_type": "text"
      },
      "source": [
        "### Example Solution Pseudo-Code"
      ]
    },
    {
      "cell_type": "code",
      "metadata": {
        "id": "MZq4xZGVyS0m",
        "colab_type": "code",
        "colab": {}
      },
      "source": [
        "# Your pseudo-code may look something like the following:\n",
        "\n",
        "# 1. import random library\n",
        "# 2. create a random number integer between a range e.g. 0 and 100\n",
        "# 3. Create a dummy user_input number not equal to the random number (make it .5 or random number+1)\n",
        "# 4. create a while loop that exists while these numbers are not equal\n",
        "# 5. take an integer input from the user\n",
        "# 6. check if the user input and random number are equal --> if yes --> print \"Well Done\" (loop should exit automatically)\n",
        "# 7. otherwise check that user input number is in range of random number (specified above)\n",
        "# 8. otherwise check if user input is higher or lower than number and let user know"
      ],
      "execution_count": 0,
      "outputs": []
    },
    {
      "cell_type": "markdown",
      "metadata": {
        "id": "_P3uRDiyyuJu",
        "colab_type": "text"
      },
      "source": [
        "### Example Solution"
      ]
    },
    {
      "cell_type": "code",
      "metadata": {
        "colab_type": "code",
        "id": "HA6tMaRLwEgA",
        "outputId": "336c17a2-4dbc-45eb-bde5-0b365a4111c5",
        "colab": {
          "base_uri": "https://localhost:8080/",
          "height": 89
        }
      },
      "source": [
        "# 1. import random library\n",
        "import random\n",
        "\n",
        "# 2. create a random number integer between a range e.g. 0 and 100\n",
        "random_number = random.randrange(0, 100)\n",
        "print(\"Random number has been generated.\")\n",
        "\n",
        "# 3. Create a dummy user_input number not equal to the random number (make it .5 or random number+1)\n",
        "user_input = random_number + 1\n",
        "\n",
        "# 4. create a while loop that exists while these numbers are not equal\n",
        "while random_number != user_input:\n",
        "  \n",
        "    # 5. take an integer input from the user  \n",
        "    print(\"Please enter a number.\")\n",
        "    user_input = int(input(\"Your guess please: \"))\n",
        "\n",
        "    # 6. check if the user input and random number are equal --> if yes --> print \"Well Done\" (loop should exit automatically)\n",
        "    if user_input == random_number:\n",
        "        print(\"Well done!\")\n",
        "   \n",
        "    # 7. otherwise check that user input number is in range of random number (specified above)\n",
        "    elif not 0 <= user_input <= 100:    # If it's not between 0 to 100\n",
        "        print(\"Our guess range is between 0 and 100, please try a bit {}.\"\n",
        "                 .format(\"higher\" if user_input < 0 else \"lower\"))\n",
        "\n",
        "    # 8. otherwise check if user input is higher or lower than number and let user know    \n",
        "    else:\n",
        "        print(\"Try one more time, a bit {}\".format(\"higher\" if user_input < random_number else \"lower\"))"
      ],
      "execution_count": 0,
      "outputs": [
        {
          "output_type": "stream",
          "text": [
            "Random number has been generated.\n",
            "Please enter a number.\n"
          ],
          "name": "stdout"
        }
      ]
    },
    {
      "cell_type": "markdown",
      "metadata": {
        "id": "nj58MRpnRjtK",
        "colab_type": "text"
      },
      "source": [
        "Bonus: What happens if you mistakenly guess with a letter rather than a number? Look at exception handling to see if you can solve this"
      ]
    },
    {
      "cell_type": "markdown",
      "metadata": {
        "colab_type": "text",
        "id": "ZYcqTH-i5HsF"
      },
      "source": [
        "## <a class=\"anchor\" id=\"beginners\">Additional Materials for Beginners </a>\n",
        "\n",
        "- [Code combat game](https://codecombat.com/)\n",
        "- [Learn Python Code Academy](https://www.codecademy.com/learn/learn-python)\n",
        "- [Learn Python the hard way book](https://learnpythonthehardway.org/python3/)\n",
        "- [A short lesson on weird programming quirks](https://www.destroyallsoftware.com/talks/wat)\n"
      ]
    }
  ]
}