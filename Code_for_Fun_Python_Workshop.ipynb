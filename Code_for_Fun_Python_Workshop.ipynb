{
  "nbformat": 4,
  "nbformat_minor": 0,
  "metadata": {
    "colab": {
      "name": "Code for Fun - Python Workshop",
      "provenance": [],
      "collapsed_sections": [],
      "toc_visible": true,
      "include_colab_link": true
    },
    "kernelspec": {
      "name": "python3",
      "display_name": "Python 3"
    }
  },
  "cells": [
    {
      "cell_type": "markdown",
      "metadata": {
        "id": "view-in-github",
        "colab_type": "text"
      },
      "source": [
        "<a href=\"https://colab.research.google.com/github/Paul-Fuller/Python/blob/master/Code_for_Fun_Python_Workshop.ipynb\" target=\"_parent\"><img src=\"https://colab.research.google.com/assets/colab-badge.svg\" alt=\"Open In Colab\"/></a>"
      ]
    },
    {
      "cell_type": "markdown",
      "metadata": {
        "id": "ExWBJ9GhcTfH",
        "colab_type": "text"
      },
      "source": [
        "<img height=\"70px\" src=\"https://upload.wikimedia.org/wikipedia/en/thumb/6/69/Cloudreach_Logo.svg/1200px-Cloudreach_Logo.svg.png\" align=\"left\" hspace=\"20px\" vspace=\"5px\"><img height=\"70px\" src=\"http://www.st-marks.islington.sch.uk/wp-content/uploads/2016/09/2000px-Two_red_dice_01_svg-500x320.png\" align=\"right\">\n",
        "\n",
        "<h1>Welcome to Code for Fun - Python Workshop!</h1>\n",
        "Here you'll find some ideas to learn or improve programming with python by creating text based games. Grab a table with a mentor, save a copy of this notebook, pick a section to get started with and have fun.\n",
        "\n"
      ]
    },
    {
      "cell_type": "markdown",
      "metadata": {
        "id": "BdlaFlUlvXZz",
        "colab_type": "text"
      },
      "source": [
        "## Exercises\n",
        "\n",
        "After you open one of the notebooks, first **save a copy** (File > Save a Copy) of this notebook. This will let you edit, make notes and run the code.\n",
        "\n",
        "*  Intro to Colab Notebooks -   [Into to Colab Notebooks](https://colab.research.google.com/drive/1u5aD2VaAatTb_HrnXQbykatyROY6B0KP)\n",
        "\n",
        "*   Beginner Exercises\n",
        "  - [Guess the number](https://colab.research.google.com/drive/1f0MkdkNDDkI9L2lJ21o0Ny2zgV1AA79C)\n",
        "  - [Exploring Python Objects](https://colab.research.google.com/drive/1W4T5AlA1RP7yLtGXmBfS5xYIs6r4rPm0)\n",
        "  \n",
        "*   Intermediate Exercises:\n",
        "\n",
        "  If you wish to continue working in Colab notebooks -\n",
        "  -  [Rock-Paper-Scissors](https://colab.research.google.com/drive/13b7WNMFyN2jlQiRWAmZRCLlxCAdOYlo-)\n",
        "  - [Trivia](https://colab.research.google.com/drive/17AT059ifKwFfqA3SJT40nPOBU59pSm9N)\n",
        "  - [Intro to Statistics with Python](https://colab.research.google.com/drive/18pIgEcPve-Vzs5PzgN84SBID860xns5w)\n",
        "  - [Python Logging](https://colab.research.google.com/drive/1_ZKeZdtMl99pwjc_dPRv6FZZHmThcwsf)\n",
        "  \n",
        "  Alternatively, you can try out an exercise in a code editor of your choice- \n",
        "  - [Hangman](https://colab.research.google.com/drive/1afZHKPPS45IYwVeYKA5aZHdN4vLrQ_js)\n",
        "  - [PyGame](https://colab.research.google.com/drive/1PozcJXD9UAHIHU2-bNagKRithViQyM_9)\n",
        "  \n",
        "* Advanced Exercises:\n",
        "  - [Tic Tac Toe](https://colab.research.google.com/drive/1PfK2EIg88xiyXWNI6kS_rk1hYSpNftT0)\n",
        "\n",
        "* Python Security (Advanced Exercises):\n",
        "  - [Blue team -  PoC for CVE-2020-0609 & CVE-2020-0610](https://colab.research.google.com/drive/1PwUfCddtcnfDnO9KK5WEGwkKpvA5iqMY)\n",
        "  - [Red team - Buffer Overflow Pt1](https://colab.research.google.com/drive/14u505foqah7uWjc_f5aaDDNM-rHAqIHQ)\n",
        "\n"
      ]
    }
  ]
}